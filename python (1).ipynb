{
  "nbformat": 4,
  "nbformat_minor": 0,
  "metadata": {
    "colab": {
      "provenance": []
    },
    "kernelspec": {
      "name": "python3",
      "display_name": "Python 3"
    },
    "language_info": {
      "name": "python"
    }
  },
  "cells": [
    {
      "cell_type": "markdown",
      "source": [
        "# NAME  -  SK AFTABUDDIN\n",
        "# EMAIL ID - aftabuddinsk248@gmail.com\n",
        "# course -  DATA SCIENCE WITH AI"
      ],
      "metadata": {
        "id": "LPAgT8dBEyKb"
      }
    },
    {
      "cell_type": "markdown",
      "source": [],
      "metadata": {
        "id": "_3UOHPsF-f0i"
      }
    },
    {
      "cell_type": "markdown",
      "source": [
        "# **python** theory question and answer\n",
        "\n"
      ],
      "metadata": {
        "id": "4Yqwelr2-N9e"
      }
    },
    {
      "cell_type": "markdown",
      "source": [
        "1. What is Python, and why is it popular?\n",
        "  - Python is a high-level, interpreted programming language known for its readability and simplicity.\n",
        "  Popularity reasons:\n",
        "\n",
        "  Clean and easy-to-read syntax\n",
        "\n",
        "  Huge standard library and third-party modules\n",
        "\n",
        "  Versatile (web development, data science, AI, automation)\n",
        "\n",
        "  Strong community support\n"
      ],
      "metadata": {
        "id": "YckS0q86-qS_"
      }
    },
    {
      "cell_type": "markdown",
      "source": [
        " 2. What is an interpreter in Python?\n",
        "\n",
        "- An interpreter reads and executes Python code line by line, converting it into machine code during runtime.\n",
        "This allows for easier debugging and dynamic typing but may be slower than compiled languages.\n",
        "\n",
        "3. What are pre-defined keywords in Python?\n",
        "\n",
        "- Keywords are reserved words that have special meaning in Python (e.g., if, else, while, class).\n",
        "They cannot be used as identifiers (e.g., variable names).\n",
        "\n",
        "4. Can keywords be used as variable names?\n",
        "\n",
        "- No, you cannot use Python keywords as variable names because they are reserved for the language's syntax and structure.\n",
        "\n",
        "5. What is mutability in Python?\n",
        "\n",
        "- Mutability refers to whether an object’s state (its contents) can be changed after creation.\n",
        "\n",
        "Mutable: Can be changed (e.g., lists, dictionaries)\n",
        "\n",
        "Immutable: Cannot be changed (e.g., tuples, strings)\n",
        "\n",
        "6. Why are lists mutable, but tuples are immutable?\n",
        "\n",
        "- Lists are designed for dynamic data; you can add, remove, or change items.\n",
        "\n",
        "Tuples are fixed and designed for safety, performance, and use as dictionary keys or constants.\n",
        "\n",
        "7. What is the difference between == and is in Python?\n",
        "\n",
        "- == checks if values are equal.\n",
        "\n",
        "is checks if two variables refer to the same object in memory.\n",
        "\n",
        "a = [1, 2]\n",
        "b = [1, 2]\n",
        "a == b  # True\n",
        "a is b  # False\n",
        "\n",
        "8. What are logical operators in Python?\n",
        "\n",
        "- Logical operators combine boolean expressions:\n",
        "\n",
        "and – True if both operands are true\n",
        "\n",
        "or – True if at least one operand is true\n",
        "\n",
        "not – Inverts the boolean value\n",
        "\n",
        "9. What is type casting in Python?\n",
        "\n",
        "- Type casting means converting one data type into another.\n",
        "Example: int(\"5\") converts the string \"5\" into an integer.\n",
        "\n",
        "10. What is the difference between implicit and explicit type casting?\n",
        "\n",
        "- Implicit: Python automatically converts types during operations.\n",
        "\n",
        "result = 5 + 2.0  # int + float = float\n",
        "\n",
        "\n",
        "Explicit: You manually convert types using functions like int(), float(), str().\n",
        "\n",
        "11. What is the purpose of conditional statements in Python?\n",
        "\n",
        "- Conditional statements (if, elif, else) control the flow of execution based on conditions.\n",
        "They allow programs to make decisions and execute different code blocks accordingly.\n",
        "\n",
        "12. How does the elif statement work?\n",
        "\n",
        "- elif (short for \"else if\") checks additional conditions if the previous if was false.\n",
        "It prevents the need for multiple nested if statements.\n",
        "\n",
        "if x > 0:\n",
        "    print(\"Positive\")\n",
        "elif x == 0:\n",
        "    print(\"Zero\")\n",
        "else:\n",
        "    print(\"Negative\")\n",
        "\n",
        "13. What is the difference between for and while loops?\n",
        "\n",
        "- for loops are used to iterate over sequences (like lists, ranges).\n",
        "\n",
        "while loops repeat as long as a condition is true.\n",
        "\n",
        "14. Describe a scenario where a while loop is more suitable than a for loop\n",
        "\n",
        "- Use a while loop when you don’t know in advance how many iterations are needed.\n",
        "\n",
        "Example: Keep asking the user for input until they enter \"exit\":\n",
        "\n",
        "user_input = \"\"\n",
        "while user_input != \"exit\":\n",
        "    user_input = input(\"Enter something (type 'exit' to quit): \")"
      ],
      "metadata": {
        "id": "-QPgwnll_qs1"
      }
    },
    {
      "cell_type": "markdown",
      "source": [
        "# python coding practical question and answer\n"
      ],
      "metadata": {
        "id": "1jzK5uOvBJlu"
      }
    },
    {
      "cell_type": "markdown",
      "source": [
        "1. Write a Python program to print \"Hello, World!"
      ],
      "metadata": {
        "id": "0XTExTV0BUwW"
      }
    },
    {
      "cell_type": "code",
      "source": [
        "print(\"Hello, World!\")"
      ],
      "metadata": {
        "id": "x3jDbwz3BUVB"
      },
      "execution_count": null,
      "outputs": []
    },
    {
      "cell_type": "markdown",
      "source": [
        "2. Write a Python program that displays your name and age\n"
      ],
      "metadata": {
        "id": "jXG_2iPnBxGD"
      }
    },
    {
      "cell_type": "code",
      "source": [
        "name = \"John Doe\"\n",
        "age = 25\n",
        "print(\"Name:\", name)\n",
        "print(\"Age:\", age)"
      ],
      "metadata": {
        "id": "f72_rmXhB-Z7"
      },
      "execution_count": null,
      "outputs": []
    },
    {
      "cell_type": "markdown",
      "source": [
        "3. Write code to print all the pre-defined keywords in Python using the keyword library"
      ],
      "metadata": {
        "id": "gUrcZTuNCDTo"
      }
    },
    {
      "cell_type": "code",
      "source": [
        "import keyword\n",
        "\n",
        "print(\"Python Keywords:\")\n",
        "print(keyword.kwlist)"
      ],
      "metadata": {
        "id": "vuJzreBkCK8k"
      },
      "execution_count": null,
      "outputs": []
    },
    {
      "cell_type": "markdown",
      "source": [
        "4. Write a program that checks if a given word is a Python keyword."
      ],
      "metadata": {
        "id": "sCW00Rq1COn5"
      }
    },
    {
      "cell_type": "code",
      "source": [
        "import keyword\n",
        "\n",
        "word = input(\"Enter a word: \")\n",
        "if keyword.iskeyword(word):\n",
        "    print(f\"'{word}' is a Python keyword.\")\n",
        "else:\n",
        "    print(f\"'{word}' is NOT a Python keyword.\")"
      ],
      "metadata": {
        "id": "t4KOSm3KCSRO"
      },
      "execution_count": null,
      "outputs": []
    },
    {
      "cell_type": "markdown",
      "source": [
        "5.  Create a list and tuple in Python, and demonstrate how attempting to change an element works differently\n",
        "for each."
      ],
      "metadata": {
        "id": "Xrld3qlyCXWW"
      }
    },
    {
      "cell_type": "code",
      "source": [
        "def modify_args(a, b):\n",
        "    a += 1           # int (immutable) — won't change outside\n",
        "    b.append(4)      # list (mutable) — will change outside\n",
        "\n",
        "x = 10\n",
        "y = [1, 2, 3]\n",
        "\n",
        "modify_args(x, y)\n",
        "\n",
        "print(\"x (int):\", x)      # Still 10\n",
        "print(\"y (list):\", y)     # Changed to [1, 2, 3, 4]"
      ],
      "metadata": {
        "id": "wa4t4rR8CdsN"
      },
      "execution_count": null,
      "outputs": []
    },
    {
      "cell_type": "markdown",
      "source": [
        "6.  Write a function to demonstrate the behavior of mutable and immutable arguments."
      ],
      "metadata": {
        "id": "ZXOSG8dhCkC6"
      }
    },
    {
      "cell_type": "code",
      "source": [
        "a = float(input(\"Enter first number: \"))\n",
        "b = float(input(\"Enter second number: \"))\n",
        "\n",
        "print(\"Addition:\", a + b)\n",
        "print(\"Subtraction:\", a - b)\n",
        "print(\"Multiplication:\", a * b)\n",
        "print(\"Division:\", a / b if b != 0 else \"Cannot divide by zero\")"
      ],
      "metadata": {
        "id": "gH_l28u9Cpkf"
      },
      "execution_count": null,
      "outputs": []
    },
    {
      "cell_type": "markdown",
      "source": [
        "7.  Write a program that performs basic arithmetic operations on two user-input numbers."
      ],
      "metadata": {
        "id": "ihsxiE-uCy0e"
      }
    },
    {
      "cell_type": "code",
      "source": [
        "x = True\n",
        "y = False\n",
        "\n",
        "print(\"x and y:\", x and y)\n",
        "print(\"x or y:\", x or y)\n",
        "print(\"not x:\", not x)"
      ],
      "metadata": {
        "id": "Bru-TBgZC4j-"
      },
      "execution_count": null,
      "outputs": []
    },
    {
      "cell_type": "markdown",
      "source": [
        "8.  Write a program to demonstrate the use of logical operators."
      ],
      "metadata": {
        "id": "WAu9S4nqDjQu"
      }
    },
    {
      "cell_type": "code",
      "source": [
        "my_list = [1, 2, 3]\n",
        "my_tuple = (1, 2, 3)\n",
        "\n",
        "# Changing list element\n",
        "my_list[0] = 100\n",
        "print(\"Modified List:\", my_list)\n",
        "\n",
        "# Attempting to change tuple element (will cause error)\n",
        "try:\n",
        "    my_tuple[0] = 100\n",
        "except TypeError as e:\n",
        "    print(\"Tuple Error:\", e)"
      ],
      "metadata": {
        "id": "rD7qZnQJDpsa"
      },
      "execution_count": null,
      "outputs": []
    },
    {
      "cell_type": "markdown",
      "source": [
        "9.  Write a Python program to convert user input from string to integer, float, and boolean types.\n",
        "\n"
      ],
      "metadata": {
        "id": "c71gCF9YDurp"
      }
    },
    {
      "cell_type": "code",
      "source": [
        "user_input = input(\"Enter a value: \")\n",
        "\n",
        "int_value = int(user_input)\n",
        "float_value = float(user_input)\n",
        "bool_value = bool(user_input)\n",
        "\n",
        "print(\"Integer:\", int_value)\n",
        "print(\"Float:\", float_value)\n",
        "print(\"Boolean:\", bool_value)"
      ],
      "metadata": {
        "id": "rUlUznEND2zV"
      },
      "execution_count": null,
      "outputs": []
    },
    {
      "cell_type": "markdown",
      "source": [
        "10.  Write code to demonstrate type casting with list elements"
      ],
      "metadata": {
        "id": "d5HSb0D5D6FB"
      }
    },
    {
      "cell_type": "code",
      "source": [
        "str_list = [\"1\", \"2\", \"3\"]\n",
        "int_list = [int(i) for i in str_list]\n",
        "\n",
        "print(\"Original (strings):\", str_list)\n",
        "print(\"Converted (integers):\", int_list)"
      ],
      "metadata": {
        "id": "Dl6Bam4hD9_P"
      },
      "execution_count": null,
      "outputs": []
    },
    {
      "cell_type": "markdown",
      "source": [
        "11. Write a program that checks if a number is positive, negative, or zero"
      ],
      "metadata": {
        "id": "Dzvv5crIEBWg"
      }
    },
    {
      "cell_type": "code",
      "source": [
        "num = float(input(\"Enter a number: \"))\n",
        "\n",
        "if num > 0:\n",
        "    print(\"Positive\")\n",
        "elif num < 0:\n",
        "    print(\"Negative\")\n",
        "else:\n",
        "    print(\"Zero\")"
      ],
      "metadata": {
        "id": "LKXz6RcxEGAq"
      },
      "execution_count": null,
      "outputs": []
    },
    {
      "cell_type": "markdown",
      "source": [
        "12. Write a for loop to print numbers from 1 to 10.\n",
        "\n"
      ],
      "metadata": {
        "id": "ni7XSXgBEKHN"
      }
    },
    {
      "cell_type": "code",
      "source": [
        "for i in range(1, 11):\n",
        "    print(i)"
      ],
      "metadata": {
        "id": "kmGrEWimEPPu"
      },
      "execution_count": null,
      "outputs": []
    },
    {
      "cell_type": "markdown",
      "source": [
        "13. Write a Python program to find the sum of all even numbers between 1 and 50.\n",
        "\n"
      ],
      "metadata": {
        "id": "WGgLkwBuESuc"
      }
    },
    {
      "cell_type": "code",
      "source": [
        "total = 0\n",
        "for i in range(2, 51, 2):\n",
        "    total += i\n",
        "\n",
        "print(\"Sum of even numbers from 1 to 50:\", total)"
      ],
      "metadata": {
        "id": "K16BAK-yEY2G"
      },
      "execution_count": null,
      "outputs": []
    },
    {
      "cell_type": "markdown",
      "source": [
        "14. Write a program to reverse a string using a while loop"
      ],
      "metadata": {
        "id": "6YAOruVtEb4Y"
      }
    },
    {
      "cell_type": "code",
      "source": [
        "text = input(\"Enter a string: \")\n",
        "reversed_text = \"\"\n",
        "index = len(text) - 1\n",
        "\n",
        "while index >= 0:\n",
        "    reversed_text += text[index]\n",
        "    index -= 1\n",
        "\n",
        "print(\"Reversed string:\", reversed_text)"
      ],
      "metadata": {
        "id": "nPmdovydEfv3"
      },
      "execution_count": null,
      "outputs": []
    },
    {
      "cell_type": "markdown",
      "source": [
        "15. Write a Python program to calculate the factorial of a number provided by the user using a while loop."
      ],
      "metadata": {
        "id": "OVYlxgJhEkPY"
      }
    },
    {
      "cell_type": "code",
      "source": [
        "num = int(input(\"Enter a number: \"))\n",
        "factorial = 1\n",
        "i = 1\n",
        "\n",
        "while i <= num:\n",
        "    factorial *= i\n",
        "    i += 1\n",
        "\n",
        "print(f\"Factorial of {num} is {factorial}\")"
      ],
      "metadata": {
        "id": "G9rJzZHKEqY1"
      },
      "execution_count": null,
      "outputs": []
    }
  ]
}